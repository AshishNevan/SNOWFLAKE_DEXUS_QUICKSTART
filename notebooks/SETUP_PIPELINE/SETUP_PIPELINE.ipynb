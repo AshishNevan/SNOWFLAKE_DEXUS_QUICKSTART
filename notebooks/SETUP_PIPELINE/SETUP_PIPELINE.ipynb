{
 "metadata": {
  "language_info": {
   "name": "python"
  },
  "lastEditStatus": {
   "notebookId": "45zuakmuvuebrqef2cv6",
   "authorId": "4722149508401",
   "authorName": "ASHISH",
   "authorEmail": "nevchris242@gmail.com",
   "sessionId": "8e6fe18e-aae9-4e30-baf7-d0f78b798265",
   "lastEditTime": 1741905341088
  }
 },
 "nbformat_minor": 2,
 "nbformat": 4,
 "cells": [
  {
   "cell_type": "markdown",
   "id": "ce110000-1111-2222-3333-ffffff000000",
   "metadata": {
    "name": "cell1",
    "collapsed": false
   },
   "source": "1. External Data Source:\n- The pipeline will pull Dow 30 stock market data from a public API (e.g., Yahoo\nFinance, Alpha Vantage, or Quandl).\n- Data will be ingested in CSV/JSON format via Snowflake External Stages (S3\nor Google buckets).\n2. Raw Data Storage (RAW_DOW30 Schema):\n- The ingested data will be stored in a staging table (RAW_DOW30_STAGING).\n- Snowflake Streams will track new records for incremental updates.\n3. Data Harmonization & Transformation (HARMONIZED_DOW30 Schema):\n- Transformation logic using Snowpark Python:\n    - Convert raw API response into a structured table.\n    - Standardize timestamps and financial indicators.\n    - Ensure data consistency and remove duplicates.\n- A harmonized table (DOW30_HARMONIZED) will store cleaned and structured\nstock market data.\n- User-Defined Functions (UDFs):\n    - SQL UDF: A function to normalize currency exchange rates.\n    - Python UDF: A function to calculate stock price volatility.\n4. Analytics & Aggregation (ANALYTICS_DOW30 Schema):\n- Precomputed analytics tables for:\n    - Daily & weekly performance metrics returns.\n- Stored Procedure (UPDATE_DOW30_SP) to handle incremental updates and\napply transformations.\n5. Task Orchestration & Automation:\n- Snowflake Tasks will automate:\n    - Data ingestion (LOAD_DOW30_TASK).\n    - Daily updates (UPDATE_DOW30_METRICS_TASK).\n- A Snowflake Notebook will be used for data engineering and the usage of\nSnowpark Python.\n- GitHub Actions Integration for CI/CD of Snowpark Python code.\n6. Testing & Validation:\n- Implement unit tests for UDFs and stored procedures.\n- Use sample datasets for validating pipeline correctness.\n- Monitor task execution logs to ensure proper scheduling and data updates.\n7. Environment Management with Jinja Templates:\n- Create Jinja-based scripts to support DEV and PROD environments.\n- Use parameterized configurations to dynamically adjust Snowflake roles,\nschemas, and warehouses per environment."
  },
  {
   "cell_type": "code",
   "id": "8ded90df-08cb-49d9-b07e-ec73103f3554",
   "metadata": {
    "language": "python",
    "name": "cell2"
   },
   "outputs": [],
   "source": "from snowflake.snowpark.context import get_active_session\nsession = get_active_session()\nenv = 'PROD' if session.get_current_schema() == '\"PROD_SCHEMA\"' else 'DEV'\nprint(env)",
   "execution_count": null
  },
  {
   "cell_type": "code",
   "id": "fa1c79cf-6552-49f0-a9c3-38bb3459eb15",
   "metadata": {
    "language": "sql",
    "name": "cell3"
   },
   "outputs": [],
   "source": "--!jinja\nUSE DATABASE USD_SPOT_EXCHANGE;\nUSE SCHEMA {{env}}_SCHEMA;\nUSE WAREHOUSE USDSE_WH;",
   "execution_count": null
  },
  {
   "cell_type": "code",
   "id": "3c62b38d-0019-4177-a3d9-e73df0bd8bc3",
   "metadata": {
    "language": "sql",
    "name": "cell4"
   },
   "outputs": [],
   "source": "CREATE OR REPLACE SCHEMA {{env}}_RAW_DATA;\nCREATE OR REPLACE TABLE {{env}}_raw_data.raw_exchange_rates (\n    date DATE,\n    usd_to_inr FLOAT,\n    eur_to_usd FLOAT,\n    gbp_to_usd FLOAT\n);",
   "execution_count": null
  },
  {
   "cell_type": "code",
   "id": "869e91df-5b0f-4528-8cf1-f16f66db93c7",
   "metadata": {
    "language": "sql",
    "name": "cell5"
   },
   "outputs": [],
   "source": "CREATE OR REPLACE SCHEMA {{env}}_HARMONIZED;\n\nCREATE OR REPLACE TABLE {{env}}_harmonized.usd_inr (\n    date DATE,\n    exchange_value FLOAT\n);\n\nCREATE OR REPLACE TABLE {{env}}_harmonized.eur_usd (\n    date DATE,\n    exchange_value FLOAT\n);\n\nCREATE OR REPLACE TABLE {{env}}_harmonized.gbp_usd (\n    date DATE,\n    exchange_value FLOAT\n);",
   "execution_count": null
  },
  {
   "cell_type": "code",
   "id": "b3275fd4-74d1-4945-91fb-2eb08a8cb65e",
   "metadata": {
    "language": "sql",
    "name": "cell6"
   },
   "outputs": [],
   "source": "CREATE OR REPLACE SCHEMA {{env}}_ANALYTICS;\n\nCREATE OR REPLACE TABLE {{env}}_analytics.usd_inr_analysis (\n    date DATE unique,\n    exchange_value FLOAT,\n    ytd_change FLOAT,\n    mtd_change FLOAT,\n    percentage_change FLOAT,\n    carc FLOAT\n);\n\nCREATE OR REPLACE TABLE {{env}}_analytics.eur_usd_analysis (\n    date DATE unique,\n    exchange_value FLOAT,\n    ytd_change FLOAT,\n    mtd_change FLOAT,\n    percentage_change FLOAT,\n    carc FLOAT\n);\n\nCREATE OR REPLACE TABLE {{env}}_analytics.gbp_usd_analysis (\n    date DATE unique,\n    exchange_value FLOAT,\n    ytd_change FLOAT,\n    mtd_change FLOAT,\n    percentage_change FLOAT,\n    carc FLOAT\n);",
   "execution_count": null
  },
  {
   "cell_type": "code",
   "id": "b3064f9c-c23a-4187-a472-169354a48209",
   "metadata": {
    "language": "sql",
    "name": "cell7"
   },
   "outputs": [],
   "source": "--MTD-\n\nCREATE OR REPLACE FUNCTION {{env}}_ANALYTICS.MTD_CHANGE(\"FIRST_VALUE\" FLOAT, \"CURRENT_VALUE\" FLOAT)\nRETURNS FLOAT\nLANGUAGE PYTHON\nRUNTIME_VERSION = '3.8'\nHANDLER = 'calculate_mtd_change'\nAS '\ndef calculate_mtd_change(first_value, current_value):\n    if first_value is None or current_value is None or first_value == 0:\n        return None\n    return ((current_value - first_value) / first_value) * 100\n';",
   "execution_count": null
  },
  {
   "cell_type": "code",
   "id": "0ce0b3cd-72f0-4399-8a53-460a8bdf0d5f",
   "metadata": {
    "language": "sql",
    "name": "cell8"
   },
   "outputs": [],
   "source": "--YTD-\n\nCREATE OR REPLACE FUNCTION {{env}}_ANALYTICS.YTD_CHANGE(\"FIRST_VALUE\" FLOAT, \"CURRENT_VALUE\" FLOAT)\nRETURNS FLOAT\nLANGUAGE PYTHON\nRUNTIME_VERSION = '3.8'\nHANDLER = 'calculate_ytd_change'\nAS '\ndef calculate_ytd_change(first_value, current_value):\n    if first_value is None or current_value is None or first_value == 0:\n        return None\n    return ((current_value - first_value) / first_value) * 100\n';",
   "execution_count": null
  },
  {
   "cell_type": "code",
   "id": "023c0fd7-b91a-41b1-84af-f35520ce8ab2",
   "metadata": {
    "language": "sql",
    "name": "cell9"
   },
   "outputs": [],
   "source": "--Percentage-\n\nCREATE OR REPLACE FUNCTION {{env}}_ANALYTICS.PERCENTAGE_CHANGE(\"OLD_VALUE\" FLOAT, \"NEW_VALUE\" FLOAT)\nRETURNS FLOAT\nLANGUAGE SQL\nAS '\n    CASE \n        WHEN old_value IS NULL OR new_value IS NULL OR old_value = 0 THEN NULL \n        ELSE ((new_value - old_value) / old_value) * 100 \n    END\n';",
   "execution_count": null
  },
  {
   "cell_type": "code",
   "id": "c89b3904-13e5-411d-b50a-a0d6bd205678",
   "metadata": {
    "language": "sql",
    "name": "cell10"
   },
   "outputs": [],
   "source": "--Compounded annual rate changes\n\nCREATE OR REPLACE FUNCTION {{env}}_ANALYTICS.COMPOUNDED_ANNUAL_RATE_OF_CHANGE(\"INITIAL_VALUE\" FLOAT, \"FINAL_VALUE\" FLOAT, \"YEARS\" FLOAT)\nRETURNS FLOAT\nLANGUAGE PYTHON\nRUNTIME_VERSION = '3.8'\nHANDLER = 'calculate_carc'\nAS '\ndef calculate_carc(initial_value, final_value, years):\n    if initial_value is None or final_value is None or years is None or initial_value <= 0 or years <= 0:\n        return None  # Prevent division by zero or invalid inputs\n\n    return ((final_value / initial_value) ** (1 / years) - 1) * 100\n';",
   "execution_count": null
  },
  {
   "cell_type": "code",
   "id": "fd1135d3-4ae1-4ca6-9d7c-3df5b5e6eb8b",
   "metadata": {
    "language": "sql",
    "name": "cell24"
   },
   "outputs": [],
   "source": "CREATE OR REPLACE FUNCTION {{env}}_ANALYTICS.compounded_annual_rate_of_change(\n    initial_value FLOAT, \n    final_value FLOAT, \n    years FLOAT\n) \nRETURNS FLOAT\nLANGUAGE PYTHON \nRUNTIME_VERSION = '3.8'\nHANDLER = 'calculate_carc'\nAS\n$$\ndef calculate_carc(initial_value, final_value, years):\n    if initial_value is None or final_value is None or years is None or initial_value <= 0 or years <= 0:\n        return None  # Prevent division by zero or invalid inputs\n\n    return ((final_value / initial_value) ** (1 / years) - 1) * 100\n$$;\n\n",
   "execution_count": null
  },
  {
   "cell_type": "code",
   "id": "fa895a11-db6a-489f-bdfc-b80a77e5f685",
   "metadata": {
    "language": "python",
    "name": "cell11"
   },
   "outputs": [],
   "source": "from datetime import date\nfrom dateutil.relativedelta import relativedelta\nimport snowflake.snowpark.functions as F\n\n\ndef load_raw_table(session):\n    try:\n        env = 'PROD' if session.get_current_schema() == \"PROD_SCHEMA\" else 'DEV'\n        end_date = date(2025, 2, 21)\n        limit_date = end_date - relativedelta(months=14)\n        target = f'{env}_RAW_DATA.RAW_EXCHANGE_RATES'\n        df = session.read.option(\"header\", True).csv('@INTEGRATIONS.USDSE_RAW_STAGE/daily_data.csv')\n        df = df.filter(F.col('\"observation_date\"') <= limit_date)\\\n        .rename({'\"observation_date\"': 'date',\n                 'DEXUSUK': 'gbp_to_usd',\n                 'DEXUSEU': 'eur_to_usd',\n                 'DEXINUS': 'usd_to_inr'})\n        df.write.mode(\"overwrite\").save_as_table(target)\n        return f'Data up to {limit_date} loaded into {target}'\n    except Exception as e:\n        return f'error loading data {str(e)}'\nload_raw_table(session)",
   "execution_count": null
  },
  {
   "cell_type": "code",
   "id": "f4145ef4-eaf0-42d0-92a2-6c1b5346047c",
   "metadata": {
    "language": "sql",
    "name": "cell12"
   },
   "outputs": [],
   "source": "USE SCHEMA {{env}}_RAW_DATA;\nCREATE OR REPLACE STREAM raw_exchange_rates_stream \nON TABLE {{env}}_raw_data.raw_exchange_rates;",
   "execution_count": null
  },
  {
   "cell_type": "code",
   "id": "66b3e0ab-0c33-4f5f-abf0-c4f247dc4558",
   "metadata": {
    "language": "sql",
    "name": "cell13"
   },
   "outputs": [],
   "source": "\n-- LOAD RAW DATA INTO DOWNSTREAM HARMONIZED DATA\n\nINSERT INTO {{env}}_harmonized.usd_inr (date, exchange_value)\nSELECT DISTINCT date, usd_to_inr FROM {{env}}_raw_data.raw_exchange_rates\nWHERE usd_to_inr IS NOT NULL;\n\nINSERT INTO {{env}}_harmonized.eur_usd (date, exchange_value)\nSELECT DISTINCT date, eur_to_usd FROM {{env}}_raw_data.raw_exchange_rates\nWHERE eur_to_usd IS NOT NULL;\n\nINSERT INTO {{env}}_harmonized.gbp_usd (date, exchange_value)\nSELECT DISTINCT date, gbp_to_usd FROM {{env}}_raw_data.raw_exchange_rates\nWHERE gbp_to_usd IS NOT NULL;\n",
   "execution_count": null
  },
  {
   "cell_type": "code",
   "id": "7230ab32-2575-41af-8d95-50a0a4aac599",
   "metadata": {
    "language": "sql",
    "name": "cell16"
   },
   "outputs": [],
   "source": "CREATE OR REPLACE PROCEDURE {{env}}_HARMONIZED.process_new_data()\nRETURNS STRING\nLANGUAGE SQL\nAS\n$$\nBEGIN\n    BEGIN TRANSACTION;\n    \n    INSERT INTO {{env}}_harmonized.usd_inr (date, exchange_value)\n    SELECT date, usd_to_inr \n    FROM {{env}}_raw_data.raw_exchange_rates_stream \n    WHERE metadata$action = 'INSERT' \n    AND metadata$isupdate = False \n    AND usd_to_inr IS NOT NULL;\n    \n    INSERT INTO {{env}}_harmonized.eur_usd (date, exchange_value)\n    SELECT date, eur_to_usd FROM {{env}}_raw_data.raw_exchange_rates_stream\n    WHERE metadata$action = 'INSERT' AND \n    metadata$isupdate = False \n    AND eur_to_usd IS NOT NULL;\n\n    INSERT INTO {{env}}_harmonized.gbp_usd (date, exchange_value)\n    SELECT date, gbp_to_usd FROM {{env}}_raw_data.raw_exchange_rates_stream\n    WHERE metadata$action = 'INSERT' AND \n    metadata$isupdate = False \n    AND gbp_to_usd IS NOT NULL;\n    \n    COMMIT;\n    RETURN 'HARMONIZED DATA UPDATED FROM STREAM';\nEND;\n$$;",
   "execution_count": null
  },
  {
   "cell_type": "code",
   "id": "d3dbd935-17ff-4a38-a1a4-0e58e9bd37f3",
   "metadata": {
    "language": "sql",
    "name": "cell15",
    "codeCollapsed": false
   },
   "outputs": [],
   "source": "CREATE OR REPLACE PROCEDURE {{env}}_raw_data.update_raw_table()\nRETURNS STRING\nLANGUAGE PYTHON\nRUNTIME_VERSION = 3.9\nPACKAGES = ('snowflake-snowpark-python')\nHANDLER = 'update_raw_table'\nAS\n$$\n\nimport snowflake.snowpark.functions as F\nfrom snowflake.snowpark.context import get_active_session\nfrom datetime import date\nfrom dateutil.relativedelta import relativedelta\n\ndef update_raw_table():\n    session = get_active_session()\n    env = 'PROD' if session.get_current_schema() == 'PROD_SCHEMA' else 'DEV'\n    target = f'{env}_RAW_DATA.RAW_EXCHANGE_RATES'\n    latest_inserted_date = session.table(target)\\\n    .select(F.max(F.col('date'))).collect()[0][0]\n    limit_date = latest_inserted_date + relativedelta(months=1)\n    df = session.read.option('header', True).csv('@INTEGRATIONS.USDSE_RAW_STAGE/daily_data.csv')\n    df = df.filter(F.col('\"observation_date\"') > latest_inserted_date)\\\n    .filter(F.col('\"observation_date\"')<=limit_date)\\\n    .rename({'\"observation_date\"': 'date',\n                 'DEXUSUK': 'gbp_to_usd',\n                 'DEXUSEU': 'eur_to_usd',\n                 'DEXINUS': 'usd_to_inr'})\n    df.write.mode('append').save_as_table(target)\n    return f'Data up to {limit_date} updated into {target}'\n$$;",
   "execution_count": null
  },
  {
   "cell_type": "code",
   "id": "25f8ef54-fc61-438d-b791-1d3e154413c9",
   "metadata": {
    "language": "sql",
    "name": "cell17"
   },
   "outputs": [],
   "source": "CREATE OR REPLACE PROCEDURE {{env}}_ANALYTICS.load_analytics_data()\nRETURNS STRING\nLANGUAGE SQL\nAS\n$$\nBEGIN\n    -- Insert data into analytics.usd_inr_analysis\n -- Insert data into {{env}}_analytics.usd_inr_analysis\n    INSERT INTO {{env}}_analytics.usd_inr_analysis (date, exchange_value, ytd_change, mtd_change, percentage_change, carc)\n    SELECT \n        date, \n        exchange_value, \n        {{env}}_analytics.ytd_change(FIRST_VALUE(exchange_value) OVER (PARTITION BY YEAR(date) ORDER BY date), exchange_value),\n        {{env}}_analytics.mtd_change(FIRST_VALUE(exchange_value) OVER (PARTITION BY YEAR(date), MONTH(date) ORDER BY date), exchange_value),\n        COALESCE({{env}}_analytics.percentage_change(LAG(exchange_value) OVER (ORDER BY date), exchange_value), 0),\n        COALESCE({{env}}_analytics.compounded_annual_rate_of_change(100, exchange_value, YEAR(date) - 2020), 0)\n    FROM {{env}}_harmonized.usd_inr \n    WHERE date > COALESCE((SELECT max(date) FROM {{env}}_analytics.usd_inr_analysis), '1900-01-01');\n\n    -- Insert data into analytics.eur_usd_analysis\n    INSERT INTO {{env}}_analytics.eur_usd_analysis (date, exchange_value, ytd_change, mtd_change, percentage_change, carc)\n    SELECT \n        date, \n        exchange_value, \n        {{env}}_analytics.ytd_change(FIRST_VALUE(exchange_value) OVER (PARTITION BY YEAR(date) ORDER BY date), exchange_value),\n        {{env}}_analytics.mtd_change(FIRST_VALUE(exchange_value) OVER (PARTITION BY YEAR(date), MONTH(date) ORDER BY date), exchange_value),\n        COALESCE({{env}}_analytics.percentage_change(LAG(exchange_value) OVER (ORDER BY date), exchange_value), 0),\n        COALESCE({{env}}_analytics.compounded_annual_rate_of_change(100, exchange_value, YEAR(date) - 2020), 0)\n    FROM {{env}}_harmonized.eur_usd where date> COALESCE((select max(date) from {{env}}_analytics.eur_usd_analysis), '1900-01-01');\n\n    -- Insert data into analytics.gbp_usd_analysis\n    INSERT INTO {{env}}_analytics.gbp_usd_analysis (date, exchange_value, ytd_change, mtd_change, percentage_change, carc)\n    SELECT \n        date, \n        exchange_value, \n        {{env}}_analytics.ytd_change(FIRST_VALUE(exchange_value) OVER (PARTITION BY YEAR(date) ORDER BY date), exchange_value),\n        {{env}}_analytics.mtd_change(FIRST_VALUE(exchange_value) OVER (PARTITION BY YEAR(date), MONTH(date) ORDER BY date), exchange_value),\n        COALESCE({{env}}_analytics.percentage_change(LAG(exchange_value) OVER (ORDER BY date), exchange_value), 0),\n        COALESCE({{env}}_analytics.compounded_annual_rate_of_change(100, exchange_value, YEAR(date) - 2020), 0)\n    FROM {{env}}_harmonized.gbp_usd where date> COALESCE((select max(date) from {{env}}_analytics.gbp_usd_analysis), '1900-01-01');\n    \n    RETURN 'Analytics data successfully loaded with CARC';\nEND;\n$$;\n\n-- Execute the stored procedure\n-- CALL load_analytics_data();",
   "execution_count": null
  },
  {
   "cell_type": "code",
   "id": "30ba3e40-375b-4d59-9e23-98a86a40aa2e",
   "metadata": {
    "language": "sql",
    "name": "cell14"
   },
   "outputs": [],
   "source": "USE SCHEMA {{env}}_HARMONIZED;\n\nCREATE OR REPLACE TASK UPDATE_RAW_TABLE_TASK\nWAREHOUSE = USDSE_WH\nSCHEDULE = 'USING CRON 0 3 * * * UTC'\nAS\nCALL {{env}}_RAW_DATA.update_raw_table();\n\nCREATE OR REPLACE TASK UPDATE_HARMONIZED_FROM_STREAM_TASK\nWAREHOUSE = USDSE_WH\nAFTER UPDATE_RAW_TABLE_TASK\nAS\nCALL {{env}}_HARMONIZED.process_new_data();\n\nCREATE OR REPLACE TASK load_harmonized_to_analytics\nWAREHOUSE = USDSE_WH\nAFTER UPDATE_HARMONIZED_FROM_STREAM_TASK\nAS\nCALL {{env}}_ANALYTICS.load_analytics_data();",
   "execution_count": null
  },
  {
   "cell_type": "code",
   "id": "c5c8af7c-f12a-43a7-8347-996269160a0a",
   "metadata": {
    "language": "sql",
    "name": "cell27"
   },
   "outputs": [],
   "source": "SELECT SYSTEM$TASK_DEPENDENTS_ENABLE('{{env}}_HARMONIZED.UPDATE_RAW_TABLE_TASK');",
   "execution_count": null
  },
  {
   "cell_type": "code",
   "id": "5777a2a9-605f-4c26-8a09-b89b51af99e8",
   "metadata": {
    "language": "sql",
    "name": "cell26",
    "codeCollapsed": false
   },
   "outputs": [],
   "source": "create or replace view USD_SPOT_EXCHANGE.{{env}}_ANALYTICS.EXCHANGE_RATE_SUMMARY(\n\tDATE,\n\tUSD_TO_INR,\n\tEUR_TO_USD,\n\tGBP_TO_USD,\n\tINR_CHANGE,\n\tEUR_CHANGE,\n\tGBP_CHANGE\n) as\nSELECT \n    r.date,\n    r.usd_to_inr,\n    r.eur_to_usd,\n    r.gbp_to_usd,\n    percentage_change(LAG(r.usd_to_inr) OVER (ORDER BY r.date), r.usd_to_inr) AS inr_change,\n    percentage_change(LAG(r.eur_to_usd) OVER (ORDER BY r.date), r.eur_to_usd) AS eur_change,\n    percentage_change(LAG(r.gbp_to_usd) OVER (ORDER BY r.date), r.gbp_to_usd) AS gbp_change\nFROM {{env}}_raw_data.raw_exchange_rates r;",
   "execution_count": null
  }
 ]
}