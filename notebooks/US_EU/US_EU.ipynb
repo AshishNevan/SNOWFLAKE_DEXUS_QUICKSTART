{
 "cells": [
  {
   "cell_type": "code",
   "execution_count": null,
   "metadata": {
    "vscode": {
     "languageId": "sql"
    }
   },
   "outputs": [],
   "source": [
    "--!jinja\n",
    "USE DATABASE USD_SPOT_EXCHANGE;\n",
    "USE SCHEMA {{env}}_SCHEMA;\n",
    "USE WAREHOUSE USDSE_WH;"
   ]
  },
  {
   "cell_type": "code",
   "execution_count": null,
   "metadata": {
    "vscode": {
     "languageId": "sql"
    }
   },
   "outputs": [],
   "source": [
    "CREATE OR REPLACE STAGE USDSE_RAW_STAGE\n",
    "    URL = 's3://dexus-team3/'\n",
    ";\n",
    "\n",
    "CREATE OR REPLACE FILE FORMAT CSV_FORMAT\n",
    "    TYPE = 'CSV'\n",
    "    FIELD_DELIMITER = ','\n",
    "    SKIP_HEADER = 1\n",
    "    NULL_IF = ('NULL', 'null', '')\n",
    "    EMPTY_FIELD_AS_NULL = TRUE;"
   ]
  },
  {
   "cell_type": "code",
   "execution_count": null,
   "metadata": {
    "vscode": {
     "languageId": "sql"
    }
   },
   "outputs": [],
   "source": [
    "CREATE TABLE IF NOT EXISTS RAW_DEXUSEU (\n",
    "    observed_date DATE,\n",
    "    exchange_rate DECIMAL(10, 4),\n",
    "    processed BOOLEAN DEFAULT FALSE\n",
    ");"
   ]
  },
  {
   "cell_type": "code",
   "execution_count": null,
   "metadata": {
    "vscode": {
     "languageId": "sql"
    }
   },
   "outputs": [],
   "source": []
  }
 ],
 "metadata": {
  "language_info": {
   "name": "python"
  }
 },
 "nbformat": 4,
 "nbformat_minor": 2
}
