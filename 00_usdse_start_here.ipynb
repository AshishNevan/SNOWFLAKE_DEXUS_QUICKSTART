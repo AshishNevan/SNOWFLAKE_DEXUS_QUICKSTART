{
 "cells": [
  {
   "cell_type": "code",
   "execution_count": null,
   "metadata": {
    "vscode": {
     "languageId": "sql"
    }
   },
   "outputs": [],
   "source": [
    "SET MY_USER = CURRENT_USER();\n",
    "\n",
    "SET GITHUB_SECRET_USERNAME = 'username';\n",
    "SET GITHUB_SECRET_PASSWORD = 'password';\n",
    "SET GITHUB_URL_PREFIX = 'https://github.com/username';\n",
    "SET GITHUB_REPO_ORIGIN = 'https://github.com/username/sfguide-data-engineering-with-notebooks.git';"
   ]
  },
  {
   "cell_type": "code",
   "execution_count": null,
   "metadata": {
    "vscode": {
     "languageId": "sql"
    }
   },
   "outputs": [],
   "source": [
    "-- ----------------------------------------------------------------------------\n",
    "-- Create the account level objects (ACCOUNTADMIN part)\n",
    "-- ----------------------------------------------------------------------------\n",
    "\n",
    "USE ROLE ACCOUNTADMIN;\n",
    "\n",
    "-- Roles\n",
    "CREATE OR REPLACE ROLE USDSE_ROLE;\n",
    "GRANT ROLE USDSE_ROLE TO ROLE SYSADMIN;\n",
    "GRANT ROLE USDSE_ROLE TO USER IDENTIFIER($MY_USER);\n",
    "\n",
    "GRANT CREATE INTEGRATION ON ACCOUNT TO ROLE USDSE_ROLE;\n",
    "GRANT EXECUTE TASK ON ACCOUNT TO ROLE USDSE_ROLE;\n",
    "GRANT EXECUTE MANAGED TASK ON ACCOUNT TO ROLE USDSE_ROLE;\n",
    "GRANT MONITOR EXECUTION ON ACCOUNT TO ROLE USDSE_ROLE;\n",
    "GRANT IMPORTED PRIVILEGES ON DATABASE SNOWFLAKE TO ROLE USDSE_ROLE;\n",
    "\n",
    "-- Databases\n",
    "CREATE OR REPLACE DATABASE USD_SPOT_EXCHANGE;\n",
    "GRANT OWNERSHIP ON DATABASE USD_SPOT_EXCHANGE TO ROLE USDSE_ROLE;\n",
    "\n",
    "-- Warehouses\n",
    "CREATE OR REPLACE WAREHOUSE USDSE_WH WAREHOUSE_SIZE = XSMALL, AUTO_SUSPEND = 300, AUTO_RESUME= TRUE;\n",
    "GRANT OWNERSHIP ON WAREHOUSE USDSE_WH TO ROLE USDSE_ROLE;"
   ]
  },
  {
   "cell_type": "code",
   "execution_count": null,
   "metadata": {
    "vscode": {
     "languageId": "sql"
    }
   },
   "outputs": [],
   "source": [
    "-- ----------------------------------------------------------------------------\n",
    "-- Create the database level objects\n",
    "-- ----------------------------------------------------------------------------\n",
    "-- USE ROLE DEMO_ROLE;\n",
    "USE ROLE ACCOUNTADMIN;\n",
    "USE WAREHOUSE USDSE_WH;\n",
    "USE DATABASE USD_SPOT_EXCHANGE;\n",
    "\n",
    "-- Schemas\n",
    "CREATE OR REPLACE SCHEMA INTEGRATIONS;\n",
    "CREATE OR REPLACE SCHEMA DEV_SCHEMA;\n",
    "CREATE OR REPLACE SCHEMA PROD_SCHEMA;\n",
    "\n",
    "USE SCHEMA INTEGRATIONS;\n",
    "\n",
    "CREATE OR REPLACE STAGE USDSE_RAW_STAGE\n",
    "    URL = 's3://dexus-team3/'\n",
    ";\n",
    "\n",
    "CREATE OR REPLACE FILE FORMAT CSV_FORMAT\n",
    "    TYPE = 'CSV'\n",
    "    FIELD_DELIMITER = ','\n",
    "    SKIP_HEADER = 1\n",
    "    NULL_IF = ('NULL', 'null', '')\n",
    "    EMPTY_FIELD_AS_NULL = TRUE;\n",
    "\n",
    "-- Secrets (schema level)\n",
    "CREATE OR REPLACE SECRET USDSE_GITHUB_SECRET\n",
    "  TYPE = password\n",
    "  USERNAME = $GITHUB_SECRET_USERNAME\n",
    "  PASSWORD = $GITHUB_SECRET_PASSWORD;\n",
    "\n",
    "-- API Integration (account level)\n",
    "-- This depends on the schema level secret!\n",
    "CREATE OR REPLACE API INTEGRATION USDSE_GITHUB_API_INTEGRATION\n",
    "  API_PROVIDER = GIT_HTTPS_API\n",
    "  API_ALLOWED_PREFIXES = ($GITHUB_URL_PREFIX)\n",
    "  ALLOWED_AUTHENTICATION_SECRETS = (USDSE_GITHUB_SECRET)\n",
    "  ENABLED = TRUE;\n",
    "\n",
    "-- Git Repository\n",
    "CREATE OR REPLACE GIT REPOSITORY USDSE_GIT_REPO\n",
    "  API_INTEGRATION = USDSE_GITHUB_API_INTEGRATION\n",
    "  GIT_CREDENTIALS = USDSE_GITHUB_SECRET\n",
    "  ORIGIN = $GITHUB_REPO_ORIGIN;"
   ]
  },
  {
   "cell_type": "code",
   "execution_count": null,
   "metadata": {
    "vscode": {
     "languageId": "sql"
    }
   },
   "outputs": [],
   "source": [
    "-- ----------------------------------------------------------------------------\n",
    "-- Create the event table\n",
    "-- ----------------------------------------------------------------------------\n",
    "USE ROLE ACCOUNTADMIN;\n",
    "\n",
    "CREATE EVENT TABLE USD_SPOT_EXCHANGE.INTEGRATIONS.USDSE_EVENTS;\n",
    "GRANT SELECT ON EVENT TABLE USD_SPOT_EXCHANGE.INTEGRATIONS.USDSE_EVENTS TO ROLE USDSE_ROLE;\n",
    "GRANT INSERT ON EVENT TABLE USD_SPOT_EXCHANGE.INTEGRATIONS.USDSE_EVENTS TO ROLE USDSE_ROLE;\n",
    "\n",
    "ALTER ACCOUNT SET EVENT_TABLE = USD_SPOT_EXCHANGE.INTEGRATIONS.USDSE_EVENTS;\n",
    "ALTER DATABASE USD_SPOT_EXCHANGE SET LOG_LEVEL = INFO;"
   ]
  },
  {
   "cell_type": "code",
   "execution_count": null,
   "metadata": {
    "vscode": {
     "languageId": "sql"
    }
   },
   "outputs": [],
   "source": [
    "USE ROLE ACCOUNTADMIN;\n",
    "USE WAREHOUSE USDSE_WH;\n",
    "USE SCHEMA USD_SPOT_EXCHANGE.INTEGRATIONS;\n",
    "\n",
    "EXECUTE IMMEDIATE FROM @USDSE_GIT_REPO/branches/main/scripts/deploy_notebooks.sql\n",
    "    USING (env => 'DEV', branch => 'dev');"
   ]
  }
 ],
 "metadata": {
  "language_info": {
   "name": "python"
  }
 },
 "nbformat": 4,
 "nbformat_minor": 2
}
